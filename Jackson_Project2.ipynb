{
  "cells": [
    {
      "cell_type": "code",
      "execution_count": 1,
      "metadata": {
        "id": "dcbKzuKck-r0"
      },
      "outputs": [],
      "source": [
        "import pandas as pd\n",
        "import numpy as np\n",
        "import tensorflow as tf\n",
        "from tensorflow.keras.models import Sequential\n",
        "from tensorflow.keras.regularizers import L2\n",
        "from tensorflow.keras.layers import Dense, Bidirectional, Embedding, LSTM, Dropout, BatchNormalization\n",
        "import matplotlib.pyplot as plt\n",
        "from tensorflow.keras.preprocessing.text import Tokenizer\n",
        "from tensorflow.keras.preprocessing.sequence import pad_sequences\n",
        "\n",
        "from sklearn import preprocessing"
      ]
    },
    {
      "cell_type": "code",
      "execution_count": 2,
      "metadata": {
        "colab": {
          "base_uri": "https://localhost:8080/"
        },
        "id": "qFB6qAnrlPQf",
        "outputId": "55920371-0013-45e1-d6a3-04b43e2066a7"
      },
      "outputs": [
        {
          "output_type": "stream",
          "name": "stdout",
          "text": [
            "Mounted at /content/drive/\n"
          ]
        }
      ],
      "source": [
        "from google.colab import drive\n",
        "drive.mount(\"/content/drive/\")"
      ]
    },
    {
      "cell_type": "markdown",
      "metadata": {
        "id": "TOP-MdK5lWtb"
      },
      "source": [
        "**Importing Data**"
      ]
    },
    {
      "cell_type": "code",
      "execution_count": 3,
      "metadata": {
        "colab": {
          "base_uri": "https://localhost:8080/",
          "height": 419
        },
        "id": "Sr1ASlK7lR_w",
        "outputId": "e3f78167-2bab-47ac-e496-018a7e60d5c7"
      },
      "outputs": [
        {
          "output_type": "execute_result",
          "data": {
            "text/plain": [
              "                                                   Text  Sentiment\n",
              "0     Kickers on my watchlist XIDE TIT SOQ PNK CPW B...          1\n",
              "1     user: AAP MOVIE. 55% return for the FEA/GEED i...          1\n",
              "2     user I'd be afraid to short AMZN - they are lo...          1\n",
              "3                                     MNTA Over 12.00            1\n",
              "4                                      OI  Over 21.37            1\n",
              "...                                                 ...        ...\n",
              "5786  Industry body CII said #discoms are likely to ...         -1\n",
              "5787  #Gold prices slip below Rs 46,000 as #investor...         -1\n",
              "5788  Workers at Bajaj Auto have agreed to a 10% wag...          1\n",
              "5789  #Sharemarket LIVE: Sensex off day’s high, up 6...          1\n",
              "5790  #Sensex, #Nifty climb off day's highs, still u...          1\n",
              "\n",
              "[5791 rows x 2 columns]"
            ],
            "text/html": [
              "\n",
              "  <div id=\"df-2fd793d3-cb42-452a-adcc-2e7ca91bb4bd\">\n",
              "    <div class=\"colab-df-container\">\n",
              "      <div>\n",
              "<style scoped>\n",
              "    .dataframe tbody tr th:only-of-type {\n",
              "        vertical-align: middle;\n",
              "    }\n",
              "\n",
              "    .dataframe tbody tr th {\n",
              "        vertical-align: top;\n",
              "    }\n",
              "\n",
              "    .dataframe thead th {\n",
              "        text-align: right;\n",
              "    }\n",
              "</style>\n",
              "<table border=\"1\" class=\"dataframe\">\n",
              "  <thead>\n",
              "    <tr style=\"text-align: right;\">\n",
              "      <th></th>\n",
              "      <th>Text</th>\n",
              "      <th>Sentiment</th>\n",
              "    </tr>\n",
              "  </thead>\n",
              "  <tbody>\n",
              "    <tr>\n",
              "      <th>0</th>\n",
              "      <td>Kickers on my watchlist XIDE TIT SOQ PNK CPW B...</td>\n",
              "      <td>1</td>\n",
              "    </tr>\n",
              "    <tr>\n",
              "      <th>1</th>\n",
              "      <td>user: AAP MOVIE. 55% return for the FEA/GEED i...</td>\n",
              "      <td>1</td>\n",
              "    </tr>\n",
              "    <tr>\n",
              "      <th>2</th>\n",
              "      <td>user I'd be afraid to short AMZN - they are lo...</td>\n",
              "      <td>1</td>\n",
              "    </tr>\n",
              "    <tr>\n",
              "      <th>3</th>\n",
              "      <td>MNTA Over 12.00</td>\n",
              "      <td>1</td>\n",
              "    </tr>\n",
              "    <tr>\n",
              "      <th>4</th>\n",
              "      <td>OI  Over 21.37</td>\n",
              "      <td>1</td>\n",
              "    </tr>\n",
              "    <tr>\n",
              "      <th>...</th>\n",
              "      <td>...</td>\n",
              "      <td>...</td>\n",
              "    </tr>\n",
              "    <tr>\n",
              "      <th>5786</th>\n",
              "      <td>Industry body CII said #discoms are likely to ...</td>\n",
              "      <td>-1</td>\n",
              "    </tr>\n",
              "    <tr>\n",
              "      <th>5787</th>\n",
              "      <td>#Gold prices slip below Rs 46,000 as #investor...</td>\n",
              "      <td>-1</td>\n",
              "    </tr>\n",
              "    <tr>\n",
              "      <th>5788</th>\n",
              "      <td>Workers at Bajaj Auto have agreed to a 10% wag...</td>\n",
              "      <td>1</td>\n",
              "    </tr>\n",
              "    <tr>\n",
              "      <th>5789</th>\n",
              "      <td>#Sharemarket LIVE: Sensex off day’s high, up 6...</td>\n",
              "      <td>1</td>\n",
              "    </tr>\n",
              "    <tr>\n",
              "      <th>5790</th>\n",
              "      <td>#Sensex, #Nifty climb off day's highs, still u...</td>\n",
              "      <td>1</td>\n",
              "    </tr>\n",
              "  </tbody>\n",
              "</table>\n",
              "<p>5791 rows × 2 columns</p>\n",
              "</div>\n",
              "      <button class=\"colab-df-convert\" onclick=\"convertToInteractive('df-2fd793d3-cb42-452a-adcc-2e7ca91bb4bd')\"\n",
              "              title=\"Convert this dataframe to an interactive table.\"\n",
              "              style=\"display:none;\">\n",
              "        \n",
              "  <svg xmlns=\"http://www.w3.org/2000/svg\" height=\"24px\"viewBox=\"0 0 24 24\"\n",
              "       width=\"24px\">\n",
              "    <path d=\"M0 0h24v24H0V0z\" fill=\"none\"/>\n",
              "    <path d=\"M18.56 5.44l.94 2.06.94-2.06 2.06-.94-2.06-.94-.94-2.06-.94 2.06-2.06.94zm-11 1L8.5 8.5l.94-2.06 2.06-.94-2.06-.94L8.5 2.5l-.94 2.06-2.06.94zm10 10l.94 2.06.94-2.06 2.06-.94-2.06-.94-.94-2.06-.94 2.06-2.06.94z\"/><path d=\"M17.41 7.96l-1.37-1.37c-.4-.4-.92-.59-1.43-.59-.52 0-1.04.2-1.43.59L10.3 9.45l-7.72 7.72c-.78.78-.78 2.05 0 2.83L4 21.41c.39.39.9.59 1.41.59.51 0 1.02-.2 1.41-.59l7.78-7.78 2.81-2.81c.8-.78.8-2.07 0-2.86zM5.41 20L4 18.59l7.72-7.72 1.47 1.35L5.41 20z\"/>\n",
              "  </svg>\n",
              "      </button>\n",
              "      \n",
              "  <style>\n",
              "    .colab-df-container {\n",
              "      display:flex;\n",
              "      flex-wrap:wrap;\n",
              "      gap: 12px;\n",
              "    }\n",
              "\n",
              "    .colab-df-convert {\n",
              "      background-color: #E8F0FE;\n",
              "      border: none;\n",
              "      border-radius: 50%;\n",
              "      cursor: pointer;\n",
              "      display: none;\n",
              "      fill: #1967D2;\n",
              "      height: 32px;\n",
              "      padding: 0 0 0 0;\n",
              "      width: 32px;\n",
              "    }\n",
              "\n",
              "    .colab-df-convert:hover {\n",
              "      background-color: #E2EBFA;\n",
              "      box-shadow: 0px 1px 2px rgba(60, 64, 67, 0.3), 0px 1px 3px 1px rgba(60, 64, 67, 0.15);\n",
              "      fill: #174EA6;\n",
              "    }\n",
              "\n",
              "    [theme=dark] .colab-df-convert {\n",
              "      background-color: #3B4455;\n",
              "      fill: #D2E3FC;\n",
              "    }\n",
              "\n",
              "    [theme=dark] .colab-df-convert:hover {\n",
              "      background-color: #434B5C;\n",
              "      box-shadow: 0px 1px 3px 1px rgba(0, 0, 0, 0.15);\n",
              "      filter: drop-shadow(0px 1px 2px rgba(0, 0, 0, 0.3));\n",
              "      fill: #FFFFFF;\n",
              "    }\n",
              "  </style>\n",
              "\n",
              "      <script>\n",
              "        const buttonEl =\n",
              "          document.querySelector('#df-2fd793d3-cb42-452a-adcc-2e7ca91bb4bd button.colab-df-convert');\n",
              "        buttonEl.style.display =\n",
              "          google.colab.kernel.accessAllowed ? 'block' : 'none';\n",
              "\n",
              "        async function convertToInteractive(key) {\n",
              "          const element = document.querySelector('#df-2fd793d3-cb42-452a-adcc-2e7ca91bb4bd');\n",
              "          const dataTable =\n",
              "            await google.colab.kernel.invokeFunction('convertToInteractive',\n",
              "                                                     [key], {});\n",
              "          if (!dataTable) return;\n",
              "\n",
              "          const docLinkHtml = 'Like what you see? Visit the ' +\n",
              "            '<a target=\"_blank\" href=https://colab.research.google.com/notebooks/data_table.ipynb>data table notebook</a>'\n",
              "            + ' to learn more about interactive tables.';\n",
              "          element.innerHTML = '';\n",
              "          dataTable['output_type'] = 'display_data';\n",
              "          await google.colab.output.renderOutput(dataTable, element);\n",
              "          const docLink = document.createElement('div');\n",
              "          docLink.innerHTML = docLinkHtml;\n",
              "          element.appendChild(docLink);\n",
              "        }\n",
              "      </script>\n",
              "    </div>\n",
              "  </div>\n",
              "  "
            ]
          },
          "metadata": {},
          "execution_count": 3
        }
      ],
      "source": [
        "path = \"/content/drive/MyDrive/Fintech Proj2/stock_data.csv\"\n",
        "data = pd.read_csv(path)\n",
        "data"
      ]
    },
    {
      "cell_type": "markdown",
      "metadata": {
        "id": "tdIXz90X_GJy"
      },
      "source": [
        "Text Cleaning"
      ]
    },
    {
      "cell_type": "code",
      "execution_count": 50,
      "metadata": {
        "colab": {
          "base_uri": "https://localhost:8080/"
        },
        "id": "SptvmXTr8SWN",
        "outputId": "118ab5b3-2ebb-41df-b823-e7d8f26bff9b"
      },
      "outputs": [
        {
          "output_type": "stream",
          "name": "stderr",
          "text": [
            "[nltk_data] Downloading package stopwords to /root/nltk_data...\n",
            "[nltk_data]   Package stopwords is already up-to-date!\n",
            "[nltk_data] Downloading package wordnet to /root/nltk_data...\n",
            "[nltk_data]   Package wordnet is already up-to-date!\n",
            "[nltk_data] Downloading package omw-1.4 to /root/nltk_data...\n",
            "[nltk_data]   Package omw-1.4 is already up-to-date!\n",
            "[nltk_data] Downloading package averaged_perceptron_tagger to\n",
            "[nltk_data]     /root/nltk_data...\n",
            "[nltk_data]   Package averaged_perceptron_tagger is already up-to-\n",
            "[nltk_data]       date!\n"
          ]
        }
      ],
      "source": [
        "import re\n",
        "import nltk\n",
        "nltk.download('stopwords')\n",
        "nltk.download('wordnet')\n",
        "nltk.download('omw-1.4')\n",
        "nltk.download('averaged_perceptron_tagger')\n",
        "from nltk.corpus import stopwords, wordnet\n",
        "from nltk.stem import WordNetLemmatizer\n",
        "from nltk import pos_tag \n",
        "swords = set(stopwords.words(\"english\"))\n",
        "\n",
        "def text_processing(raw_string):\n",
        "  #Remove hyperlinks\n",
        "  output = re.sub(r'^https?:\\/\\/.*[\\r\\n]*', '', raw_string, flags=re.MULTILINE)\n",
        "  #Remove non alphanumeric characters\n",
        "  output = \"\".join(char for char in output if ord(char) < 128 and not char.isnumeric())\n",
        "  #Remove stopwords\n",
        "  #output = \" \".join(word for word in output.split() if word not in swords)\n",
        "  #Lemmatization\n",
        "  def get_wordnet_pos(treebank_tag):\n",
        "\n",
        "    if treebank_tag.startswith('J'):\n",
        "        return wordnet.ADJ\n",
        "    elif treebank_tag.startswith('V'):\n",
        "        return wordnet.VERB\n",
        "    elif treebank_tag.startswith('N'):\n",
        "        return wordnet.NOUN\n",
        "    elif treebank_tag.startswith('R'):\n",
        "        return wordnet.ADV\n",
        "    else:\n",
        "        return wordnet.NOUN\n",
        "  lemmatizer = WordNetLemmatizer()\n",
        "  output = list(map(lambda w: lemmatizer.lemmatize(w[0], pos = get_wordnet_pos(w[1])), pos_tag(output.split())))\n",
        "  output = ' '.join(output)\n",
        "  return output"
      ]
    },
    {
      "cell_type": "code",
      "source": [
        "[('car', 'N'), ('ant', 'V')]"
      ],
      "metadata": {
        "id": "sEufDHaVXqi6"
      },
      "execution_count": null,
      "outputs": []
    },
    {
      "cell_type": "code",
      "execution_count": 51,
      "metadata": {
        "colab": {
          "base_uri": "https://localhost:8080/"
        },
        "id": "j_En1EaX5Dma",
        "outputId": "7cc23fc1-27f5-4111-8e33-22e6e9c43058"
      },
      "outputs": [
        {
          "output_type": "execute_result",
          "data": {
            "text/plain": [
              "(5791, 5791)"
            ]
          },
          "metadata": {},
          "execution_count": 51
        }
      ],
      "source": [
        "X_raw = data['Text'].to_numpy()\n",
        "X_raw = list(map(text_processing, X_raw))\n",
        "\n",
        "Y = data['Sentiment'].to_numpy()\n",
        "Y[Y == -1] = 0\n",
        "\n",
        "(len(X_raw),len(Y))"
      ]
    },
    {
      "cell_type": "markdown",
      "metadata": {
        "id": "n68y_sepuVt2"
      },
      "source": [
        "Train Test Split"
      ]
    },
    {
      "cell_type": "code",
      "execution_count": 52,
      "metadata": {
        "colab": {
          "base_uri": "https://localhost:8080/"
        },
        "id": "dCTgsvd9uVGA",
        "outputId": "a0933242-db26-4157-c0dc-751400deb1ee"
      },
      "outputs": [
        {
          "output_type": "execute_result",
          "data": {
            "text/plain": [
              "(4632, 1159, 4632, 1159)"
            ]
          },
          "metadata": {},
          "execution_count": 52
        }
      ],
      "source": [
        "from sklearn.model_selection import train_test_split\n",
        "\n",
        "X_train_raw, X_test_raw, y_train, y_test = train_test_split(X_raw, Y,\n",
        "                                   random_state=104, \n",
        "                                   test_size=0.20, \n",
        "                                   shuffle=True)\n",
        "\n",
        "(len(X_train_raw),len(X_test_raw),len(y_train),len(y_test))"
      ]
    },
    {
      "cell_type": "markdown",
      "metadata": {
        "id": "o3s432umzkQz"
      },
      "source": [
        "Tokenization"
      ]
    },
    {
      "cell_type": "code",
      "execution_count": 53,
      "metadata": {
        "id": "gFbdTgaQy-3O"
      },
      "outputs": [],
      "source": [
        "num_words = 5000\n",
        "oov_token = '<UNK>'\n",
        "pad_type = 'post'\n",
        "trunc_type = 'post'\n",
        "\n",
        "# Tokenize our training data\n",
        "tokenizer = Tokenizer(num_words=num_words, oov_token=oov_token)\n",
        "tokenizer.fit_on_texts(X_train_raw)\n",
        "# Get our training data word index\n",
        "word_index = tokenizer.word_index"
      ]
    },
    {
      "cell_type": "code",
      "execution_count": 54,
      "metadata": {
        "id": "Zc-er70HwftQ"
      },
      "outputs": [],
      "source": [
        "X_train_tokenized = tokenizer.texts_to_sequences(X_train_raw)\n",
        "X_test_tokenized = tokenizer.texts_to_sequences(X_test_raw)"
      ]
    },
    {
      "cell_type": "markdown",
      "metadata": {
        "id": "yWhXTH6IzR24"
      },
      "source": [
        "Padding"
      ]
    },
    {
      "cell_type": "code",
      "execution_count": 55,
      "metadata": {
        "id": "r7B_T7uF0dIj"
      },
      "outputs": [],
      "source": [
        "max_length = 30\n",
        "padding_type='post'\n",
        "truncation_type='post'\n",
        "\n",
        "X_test = pad_sequences(X_test_tokenized,maxlen=max_length,padding=padding_type, truncating=truncation_type)\n",
        "X_train = pad_sequences(X_train_tokenized,maxlen=max_length,padding=padding_type, truncating=truncation_type)"
      ]
    },
    {
      "cell_type": "markdown",
      "metadata": {
        "id": "59D5scJDzTel"
      },
      "source": [
        "Word Embedding (GloVe)"
      ]
    },
    {
      "cell_type": "code",
      "execution_count": 56,
      "metadata": {
        "colab": {
          "base_uri": "https://localhost:8080/"
        },
        "id": "JojyQSLI1NYL",
        "outputId": "8bc5e5e6-9512-42c2-cc12-0ac4823556fb"
      },
      "outputs": [
        {
          "output_type": "stream",
          "name": "stdout",
          "text": [
            "--2022-12-13 16:23:02--  http://nlp.stanford.edu/data/glove.6B.zip\n",
            "Resolving nlp.stanford.edu (nlp.stanford.edu)... 171.64.67.140\n",
            "Connecting to nlp.stanford.edu (nlp.stanford.edu)|171.64.67.140|:80... connected.\n",
            "HTTP request sent, awaiting response... 302 Found\n",
            "Location: https://nlp.stanford.edu/data/glove.6B.zip [following]\n",
            "--2022-12-13 16:23:02--  https://nlp.stanford.edu/data/glove.6B.zip\n",
            "Connecting to nlp.stanford.edu (nlp.stanford.edu)|171.64.67.140|:443... connected.\n",
            "HTTP request sent, awaiting response... 301 Moved Permanently\n",
            "Location: https://downloads.cs.stanford.edu/nlp/data/glove.6B.zip [following]\n",
            "--2022-12-13 16:23:02--  https://downloads.cs.stanford.edu/nlp/data/glove.6B.zip\n",
            "Resolving downloads.cs.stanford.edu (downloads.cs.stanford.edu)... 171.64.64.22\n",
            "Connecting to downloads.cs.stanford.edu (downloads.cs.stanford.edu)|171.64.64.22|:443... connected.\n",
            "HTTP request sent, awaiting response... 200 OK\n",
            "Length: 862182613 (822M) [application/zip]\n",
            "Saving to: ‘/tmp/glove.6B.zip’\n",
            "\n",
            "/tmp/glove.6B.zip   100%[===================>] 822.24M  5.00MB/s    in 2m 39s  \n",
            "\n",
            "2022-12-13 16:25:41 (5.17 MB/s) - ‘/tmp/glove.6B.zip’ saved [862182613/862182613]\n",
            "\n"
          ]
        }
      ],
      "source": [
        "!wget --no-check-certificate \\\n",
        "     http://nlp.stanford.edu/data/glove.6B.zip \\\n",
        "     -O /tmp/glove.6B.zip"
      ]
    },
    {
      "cell_type": "code",
      "execution_count": 57,
      "metadata": {
        "id": "LOfZrOBX7c9X"
      },
      "outputs": [],
      "source": [
        "import os\n",
        "import zipfile\n",
        "with zipfile.ZipFile('/tmp/glove.6B.zip', 'r') as zip_ref:\n",
        "    zip_ref.extractall('/tmp/glove')"
      ]
    },
    {
      "cell_type": "code",
      "execution_count": 58,
      "metadata": {
        "colab": {
          "base_uri": "https://localhost:8080/"
        },
        "id": "tgJuT07l6dFO",
        "outputId": "99cc0d05-2800-4c54-802f-b478e2565603"
      },
      "outputs": [
        {
          "output_type": "stream",
          "name": "stdout",
          "text": [
            "Found 400000 word vectors.\n"
          ]
        }
      ],
      "source": [
        "#Retrieve GloVe embedding index from file\n",
        "embeddings_index = {}\n",
        "f = open('/tmp/glove/glove.6B.100d.txt')\n",
        "for line in f:\n",
        "    values = line.split()\n",
        "    word = values[0]\n",
        "    coefs = np.asarray(values[1:], dtype='float32')\n",
        "    embeddings_index[word] = coefs\n",
        "f.close()\n",
        "\n",
        "print('Found %s word vectors.' % len(embeddings_index))"
      ]
    },
    {
      "cell_type": "code",
      "execution_count": 59,
      "metadata": {
        "id": "39f-YNcf_GJf"
      },
      "outputs": [],
      "source": [
        "#Create embedding matrix which matches words from the word_index dictionary to their corresponding GloVe embedding vectors\n",
        "embedding_matrix = np.zeros((len(word_index) + 1, 100))\n",
        "for word, i in word_index.items():\n",
        "    embedding_vector = embeddings_index.get(word)\n",
        "    if embedding_vector is not None:\n",
        "        # words not found in embedding index will be all-zeros.\n",
        "        embedding_matrix[i] = embedding_vector"
      ]
    },
    {
      "cell_type": "markdown",
      "metadata": {
        "id": "wMZfp1SEDDKR"
      },
      "source": [
        "Tensorflow Model"
      ]
    },
    {
      "cell_type": "code",
      "execution_count": 76,
      "metadata": {
        "id": "l52EMusS_Pzr"
      },
      "outputs": [],
      "source": [
        "model = Sequential([\n",
        "    Embedding(input_dim=len(word_index) + 1, output_dim=100, weights=[embedding_matrix], input_length=max_length, trainable=False),\n",
        "    Bidirectional(LSTM(64,return_sequences = True)), \n",
        "    Bidirectional(LSTM(64)), \n",
        "    Dropout(0.2),\n",
        "    BatchNormalization(),\n",
        "    Dense(64, activation='relu'),\n",
        "    Dropout(0.2),\n",
        "    BatchNormalization(),\n",
        "   Dense(1, activation='sigmoid')\n",
        "])\n",
        "\n",
        "model.compile(loss='binary_crossentropy',optimizer='adam',metrics=['accuracy'])"
      ]
    },
    {
      "cell_type": "code",
      "execution_count": 77,
      "metadata": {
        "colab": {
          "base_uri": "https://localhost:8080/"
        },
        "id": "Q9x6Zh1mEb8g",
        "outputId": "3530608a-3025-4615-edc8-1d53648e97a4"
      },
      "outputs": [
        {
          "output_type": "stream",
          "name": "stdout",
          "text": [
            "Epoch 1/20\n",
            "145/145 [==============================] - 21s 84ms/step - loss: 0.7114 - accuracy: 0.5978 - val_loss: 0.6670 - val_accuracy: 0.6316\n",
            "Epoch 2/20\n",
            "145/145 [==============================] - 10s 72ms/step - loss: 0.6015 - accuracy: 0.6805 - val_loss: 0.5895 - val_accuracy: 0.6652\n",
            "Epoch 3/20\n",
            "145/145 [==============================] - 10s 72ms/step - loss: 0.5615 - accuracy: 0.7118 - val_loss: 0.5580 - val_accuracy: 0.7135\n",
            "Epoch 4/20\n",
            "145/145 [==============================] - 10s 72ms/step - loss: 0.5304 - accuracy: 0.7355 - val_loss: 0.6316 - val_accuracy: 0.6859\n",
            "Epoch 5/20\n",
            "145/145 [==============================] - 13s 86ms/step - loss: 0.4914 - accuracy: 0.7638 - val_loss: 0.5146 - val_accuracy: 0.7506\n",
            "Epoch 6/20\n",
            "145/145 [==============================] - 10s 72ms/step - loss: 0.4490 - accuracy: 0.7830 - val_loss: 0.9491 - val_accuracy: 0.6928\n",
            "Epoch 7/20\n",
            "145/145 [==============================] - 10s 72ms/step - loss: 0.4156 - accuracy: 0.8003 - val_loss: 0.5310 - val_accuracy: 0.7463\n",
            "Epoch 8/20\n",
            "145/145 [==============================] - 10s 72ms/step - loss: 0.3806 - accuracy: 0.8297 - val_loss: 0.5727 - val_accuracy: 0.7135\n",
            "Epoch 9/20\n",
            "145/145 [==============================] - 10s 72ms/step - loss: 0.3589 - accuracy: 0.8342 - val_loss: 0.6605 - val_accuracy: 0.6592\n",
            "Epoch 10/20\n",
            "145/145 [==============================] - 11s 73ms/step - loss: 0.3213 - accuracy: 0.8502 - val_loss: 0.6776 - val_accuracy: 0.7437\n",
            "Epoch 11/20\n",
            "145/145 [==============================] - 10s 72ms/step - loss: 0.2856 - accuracy: 0.8767 - val_loss: 0.5878 - val_accuracy: 0.7584\n",
            "Epoch 12/20\n",
            "145/145 [==============================] - 11s 72ms/step - loss: 0.2470 - accuracy: 0.8910 - val_loss: 1.0620 - val_accuracy: 0.7230\n",
            "Epoch 13/20\n",
            "145/145 [==============================] - 11s 73ms/step - loss: 0.2359 - accuracy: 0.9016 - val_loss: 0.6125 - val_accuracy: 0.7610\n",
            "Epoch 14/20\n",
            "145/145 [==============================] - 11s 73ms/step - loss: 0.2023 - accuracy: 0.9147 - val_loss: 0.6428 - val_accuracy: 0.7636\n",
            "Epoch 15/20\n",
            "145/145 [==============================] - 10s 72ms/step - loss: 0.1563 - accuracy: 0.9376 - val_loss: 0.8786 - val_accuracy: 0.7481\n",
            "Epoch 16/20\n",
            "145/145 [==============================] - 11s 73ms/step - loss: 0.1748 - accuracy: 0.9285 - val_loss: 0.9645 - val_accuracy: 0.7127\n",
            "Epoch 17/20\n",
            "145/145 [==============================] - 11s 73ms/step - loss: 0.1351 - accuracy: 0.9516 - val_loss: 0.8519 - val_accuracy: 0.7429\n",
            "Epoch 18/20\n",
            "145/145 [==============================] - 10s 72ms/step - loss: 0.1060 - accuracy: 0.9620 - val_loss: 1.0521 - val_accuracy: 0.7524\n",
            "Epoch 19/20\n",
            "145/145 [==============================] - 10s 72ms/step - loss: 0.1070 - accuracy: 0.9577 - val_loss: 1.0494 - val_accuracy: 0.7179\n",
            "Epoch 20/20\n",
            "145/145 [==============================] - 11s 73ms/step - loss: 0.0874 - accuracy: 0.9672 - val_loss: 1.3603 - val_accuracy: 0.7386\n"
          ]
        }
      ],
      "source": [
        "history = model.fit(X_train, y_train, epochs=20, validation_data=(X_test, y_test))"
      ]
    },
    {
      "cell_type": "code",
      "source": [
        "import matplotlib.pyplot as plt\n",
        "plt.plot(history.history[\"accuracy\"],label=\"training\")\n",
        "plt.plot(history.history[\"val_accuracy\"],label=\"validation\")\n",
        "plt.xlabel(\"Epoch\")\n",
        "plt.ylabel(\"Accuracy\")\n",
        "plt.legend()\n",
        "print(\"Validation Accuracy: \"+ str(history.history[\"val_accuracy\"][-1]))"
      ],
      "metadata": {
        "colab": {
          "base_uri": "https://localhost:8080/",
          "height": 296
        },
        "id": "Qn0Ekti8oMJC",
        "outputId": "1a8face8-d1b8-41b4-fbb1-1b12fb7241ac"
      },
      "execution_count": 152,
      "outputs": [
        {
          "output_type": "stream",
          "name": "stdout",
          "text": [
            "Validation Accuracy: 0.7385677099227905\n"
          ]
        },
        {
          "output_type": "display_data",
          "data": {
            "text/plain": [
              "<Figure size 432x288 with 1 Axes>"
            ],
            "image/png": "[encoded data removed]"
          },
          "metadata": {
            "needs_background": "light"
          }
        }
      ]
    },
    {
      "cell_type": "code",
      "source": [],
      "metadata": {
        "id": "t6DekWgZqRGI"
      },
      "execution_count": null,
      "outputs": []
    }
  ],
  "metadata": {
    "colab": {
      "provenance": []
    },
    "kernelspec": {
      "display_name": "Python 3",
      "name": "python3"
    },
    "language_info": {
      "name": "python"
    }
  },
  "nbformat": 4,
  "nbformat_minor": 0
}